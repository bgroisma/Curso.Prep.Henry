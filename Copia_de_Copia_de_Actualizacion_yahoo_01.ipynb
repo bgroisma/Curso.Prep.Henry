{
  "nbformat": 4,
  "nbformat_minor": 0,
  "metadata": {
    "colab": {
      "name": "Copia de Copia de Actualizacion_yahoo_01.ipynb",
      "provenance": [],
      "authorship_tag": "ABX9TyOiF1oMxgbqUnfDCRlnDxA4",
      "include_colab_link": true
    },
    "kernelspec": {
      "name": "python3",
      "display_name": "Python 3"
    },
    "language_info": {
      "name": "python"
    }
  },
  "cells": [
    {
      "cell_type": "markdown",
      "metadata": {
        "id": "view-in-github",
        "colab_type": "text"
      },
      "source": [
        "<a href=\"https://colab.research.google.com/github/bgroisma/Curso.Prep.Henry/blob/master/Copia_de_Copia_de_Actualizacion_yahoo_01.ipynb\" target=\"_parent\"><img src=\"https://colab.research.google.com/assets/colab-badge.svg\" alt=\"Open In Colab\"/></a>"
      ]
    },
    {
      "cell_type": "code",
      "source": [
        "#instala libreria propia Yahoo !\n",
        "!pip install yfinance"
      ],
      "metadata": {
        "id": "5xgPkzibnuPG",
        "colab": {
          "base_uri": "https://localhost:8080/"
        },
        "outputId": "fa197a27-4cca-4290-af33-e4b7d95468b4"
      },
      "execution_count": null,
      "outputs": [
        {
          "output_type": "stream",
          "name": "stdout",
          "text": [
            "Requirement already satisfied: yfinance in /usr/local/lib/python3.7/dist-packages (0.1.68)\n",
            "Requirement already satisfied: multitasking>=0.0.7 in /usr/local/lib/python3.7/dist-packages (from yfinance) (0.0.10)\n",
            "Requirement already satisfied: numpy>=1.15 in /usr/local/lib/python3.7/dist-packages (from yfinance) (1.19.5)\n",
            "Requirement already satisfied: lxml>=4.5.1 in /usr/local/lib/python3.7/dist-packages (from yfinance) (4.7.1)\n",
            "Requirement already satisfied: pandas>=0.24 in /usr/local/lib/python3.7/dist-packages (from yfinance) (1.1.5)\n",
            "Requirement already satisfied: requests>=2.26 in /usr/local/lib/python3.7/dist-packages (from yfinance) (2.27.1)\n",
            "Requirement already satisfied: python-dateutil>=2.7.3 in /usr/local/lib/python3.7/dist-packages (from pandas>=0.24->yfinance) (2.8.2)\n",
            "Requirement already satisfied: pytz>=2017.2 in /usr/local/lib/python3.7/dist-packages (from pandas>=0.24->yfinance) (2018.9)\n",
            "Requirement already satisfied: six>=1.5 in /usr/local/lib/python3.7/dist-packages (from python-dateutil>=2.7.3->pandas>=0.24->yfinance) (1.15.0)\n",
            "Requirement already satisfied: idna<4,>=2.5 in /usr/local/lib/python3.7/dist-packages (from requests>=2.26->yfinance) (2.10)\n",
            "Requirement already satisfied: certifi>=2017.4.17 in /usr/local/lib/python3.7/dist-packages (from requests>=2.26->yfinance) (2021.10.8)\n",
            "Requirement already satisfied: charset-normalizer~=2.0.0 in /usr/local/lib/python3.7/dist-packages (from requests>=2.26->yfinance) (2.0.9)\n",
            "Requirement already satisfied: urllib3<1.27,>=1.21.1 in /usr/local/lib/python3.7/dist-packages (from requests>=2.26->yfinance) (1.24.3)\n"
          ]
        }
      ]
    },
    {
      "cell_type": "code",
      "source": [
        "import numpy as np\n",
        "import pandas as pd\n",
        "import yfinance as yfin\n",
        "import pandas_datareader as pdr\n",
        "yfin.pdr_override()\n",
        "\n",
        "import datetime"
      ],
      "metadata": {
        "id": "1CRHGEpvqspG"
      },
      "execution_count": null,
      "outputs": []
    },
    {
      "cell_type": "code",
      "source": [
        ""
      ],
      "metadata": {
        "id": "hzthgISkqpxK"
      },
      "execution_count": null,
      "outputs": []
    },
    {
      "cell_type": "code",
      "source": [
        "stock = 'AAPL'\n",
        "\n",
        "start_date = (datetime.datetime.now() - datetime.timedelta(days=365)).strftime(\"%Y-%m-%d\")\n",
        "end_date = (datetime.datetime.now()).strftime(\"%Y-%m-%d\")"
      ],
      "metadata": {
        "id": "cIu7PX8Zn8m_"
      },
      "execution_count": null,
      "outputs": []
    },
    {
      "cell_type": "code",
      "source": [
        "data = yfin.download(stock, start_date, end_date)\n",
        "\n",
        "print(stock)\n",
        "print(\"from\",start_date)\n",
        "print(\"to\", end_date)\n",
        "print(data)"
      ],
      "metadata": {
        "colab": {
          "base_uri": "https://localhost:8080/"
        },
        "id": "yqdo9tdfoGFl",
        "outputId": "e26f1f9d-7e79-42b1-92ab-d0eacbd604ce"
      },
      "execution_count": null,
      "outputs": [
        {
          "output_type": "stream",
          "name": "stdout",
          "text": [
            "\r[*********************100%***********************]  1 of 1 completed\n",
            "AAPL\n",
            "from 2021-01-06\n",
            "to 2022-01-06\n",
            "                  Open        High  ...   Adj Close     Volume\n",
            "Date                                ...                       \n",
            "2021-01-06  127.720001  131.050003  ...  125.824326  155088000\n",
            "2021-01-07  128.360001  131.630005  ...  130.117844  109578200\n",
            "2021-01-08  132.429993  132.630005  ...  131.240936  105158200\n",
            "2021-01-11  129.190002  130.169998  ...  128.189728  100384500\n",
            "2021-01-12  128.500000  129.690002  ...  128.010834   91951100\n",
            "...                ...         ...  ...         ...        ...\n",
            "2021-12-30  179.470001  180.570007  ...  178.199997   59773000\n",
            "2021-12-31  178.089996  179.229996  ...  177.570007   64025500\n",
            "2022-01-03  177.830002  182.880005  ...  182.009995  104487900\n",
            "2022-01-04  182.630005  182.940002  ...  179.699997   99310400\n",
            "2022-01-05  179.610001  180.169998  ...  174.919998   94537600\n",
            "\n",
            "[253 rows x 6 columns]\n"
          ]
        }
      ]
    }
  ]
}